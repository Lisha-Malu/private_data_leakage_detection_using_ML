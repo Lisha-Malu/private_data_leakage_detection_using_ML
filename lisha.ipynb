{
 "cells": [
  {
   "cell_type": "code",
   "execution_count": 13,
   "id": "f05151a0",
   "metadata": {},
   "outputs": [],
   "source": [
    "# --- Cell 1: Import Libraries ---\n",
    "import pandas as pd\n",
    "import numpy as np\n",
    "import os\n",
    "import joblib\n",
    "import re\n",
    "import matplotlib.pyplot as plt\n",
    "import seaborn as sns\n",
    "from sklearn.model_selection import train_test_split\n",
    "from sklearn.preprocessing import StandardScaler\n",
    "from sklearn.feature_extraction.text import TfidfVectorizer\n",
    "from sklearn.svm import LinearSVC\n",
    "from sklearn.linear_model import LogisticRegression\n",
    "from sklearn.compose import ColumnTransformer\n",
    "from sklearn.pipeline import Pipeline\n",
    "from sklearn.metrics import classification_report, accuracy_score\n",
    "from imblearn.pipeline import Pipeline as ImbPipeline\n",
    "from imblearn.over_sampling import SMOTE"
   ]
  },
  {
   "cell_type": "code",
   "execution_count": 14,
   "id": "6a29a9d3",
   "metadata": {},
   "outputs": [],
   "source": [
    "# --- Cell 2: Advanced Data Loading and Cleaning ---\n",
    "def clean_text(text):\n",
    "    \"\"\"Applies a series of cleaning steps to the text.\"\"\"\n",
    "    if not isinstance(text, str):\n",
    "        return \"\"\n",
    "    text = text.lower()\n",
    "    text = re.sub(r'https?://\\S+|www\\.\\S+', '', text)\n",
    "    text = re.sub(r'<.*?>', '', text)\n",
    "    text = re.sub(r'\\S+@\\S+', '', text)\n",
    "    text = re.sub(r'[^a-z0-9\\s]', '', text)\n",
    "    text = re.sub(r'\\s+', ' ', text).strip()\n",
    "    return text\n",
    "\n",
    "def load_and_preprocess_data(paths):\n",
    "    \"\"\"Loads data from multiple sources with robust, specific labeling.\"\"\"\n",
    "    all_data = []\n",
    "    for path in paths:\n",
    "        try:\n",
    "            df_temp = None\n",
    "            filename = os.path.basename(path)\n",
    "            if filename in ['SMSSpamCollection', 'Spam_SMS.csv', 'sms.csv']:\n",
    "                if 'SMSSpamCollection' in filename:\n",
    "                    df_temp = pd.read_csv(path, sep='\\t', header=None, names=[\"Category\", \"Message\"])\n",
    "                else:\n",
    "                    df_temp = pd.read_csv(path, encoding='latin1')\n",
    "                    df_temp.columns = [\"Category\", \"Message\"][:len(df_temp.columns)]\n",
    "                df_temp['Label'] = df_temp['Category'].map({'ham': 'Legitimate', 'spam': 'Spam'})\n",
    "                df_temp['Type'] = 'SMS'\n",
    "            else: # Assumes all other files are emails\n",
    "                df_temp = pd.read_csv(path, encoding='latin1', on_bad_lines='skip')\n",
    "                if 'body' in df_temp.columns and 'subject' in df_temp.columns:\n",
    "                     df_temp['Message'] = df_temp['subject'].fillna('') + ' ' + df_temp['body'].fillna('')\n",
    "                elif 'Message' in df_temp.columns:\n",
    "                     pass\n",
    "                else:\n",
    "                     df_temp['Message'] = df_temp.iloc[:, 1].astype(str)\n",
    "                if any(k in filename for k in ['CEAS', 'Nazario', 'Nigerian_Fraud']):\n",
    "                    df_temp['Label'] = 'Phishing'\n",
    "                elif any(k in filename for k in ['Enron', 'Ling', 'SpamAssasin']):\n",
    "                    df_temp['Label'] = df_temp['label'].map({0: 'Legitimate', 1: 'Spam'})\n",
    "                df_temp['Type'] = 'Email'\n",
    "            if df_temp is not None:\n",
    "                all_data.append(df_temp[['Message', 'Label', 'Type']])\n",
    "        except FileNotFoundError:\n",
    "            print(f\"Warning: Skipping file {path}. Not found.\")\n",
    "        except Exception as e:\n",
    "            print(f\"Skipping {path} due to error: {e}\")\n",
    "    if not all_data:\n",
    "        raise ValueError(\"No data loaded. Please check file paths and formats.\")\n",
    "    df_full = pd.concat(all_data, ignore_index=True).dropna(subset=[\"Message\", \"Label\"])\n",
    "    df_full['CleanMessage'] = df_full['Message'].apply(clean_text)\n",
    "    return df_full\n"
   ]
  },
  {
   "cell_type": "code",
   "execution_count": 15,
   "id": "d17dcecd",
   "metadata": {},
   "outputs": [],
   "source": [
    "# --- Cell 3: Feature Engineering ---\n",
    "def extract_meta_features(df):\n",
    "    \"\"\"Creates new features based on the message content.\"\"\"\n",
    "    df['message_len'] = df['CleanMessage'].apply(len)\n",
    "    df['word_count'] = df['CleanMessage'].apply(lambda x: len(x.split()))\n",
    "    df['percent_caps'] = df['Message'].apply(lambda x: sum(1 for c in str(x) if c.isupper()) / (len(str(x)) + 1))\n",
    "    df['url_count'] = df['Message'].astype(str).str.count(r'http[s]?://|www\\.')\n",
    "    return df"
   ]
  },
  {
   "cell_type": "code",
   "execution_count": 16,
   "id": "8e4444c5",
   "metadata": {},
   "outputs": [
    {
     "name": "stdout",
     "output_type": "stream",
     "text": [
      "Skipping datasets/phishing_email.csv due to error: \"['Label'] not in index\"\n",
      "Data Loading, Cleaning, and Feature Engineering Complete.\n",
      "Total Samples: 99204, SMS Samples: 16718, Email Samples: 82486\n",
      "\n",
      "Email Class Distribution (Original):\n",
      " Label\n",
      "Phishing      44051\n",
      "Legitimate    22283\n",
      "Spam          16152\n",
      "Name: count, dtype: int64\n",
      "\n",
      "SMS Class Distribution (Original):\n",
      " Label\n",
      "Legitimate    14477\n",
      "Spam           2241\n",
      "Name: count, dtype: int64\n"
     ]
    }
   ],
   "source": [
    "\n",
    "# --- Cell 4: Main Data Preparation ---\n",
    "paths = [\n",
    "    \"datasets/CEAS_08.csv\", \"datasets/Enron.csv\", \"datasets/Ling.csv\", \"datasets/Nazario.csv\", \"datasets/Nigerian_Fraud.csv\",\n",
    "    \"datasets/sms.csv\", \"datasets/SMSSpamCollection\", \"datasets/Spam_SMS.csv\", \"datasets/SpamAssasin.csv\", \"datasets/phishing_email.csv\"\n",
    "]\n",
    "df_full = load_and_preprocess_data(paths)\n",
    "df_full = extract_meta_features(df_full)\n",
    "df_sms = df_full[df_full['Type'] == 'SMS'].copy()\n",
    "df_email = df_full[df_full['Type'] == 'Email'].copy()\n",
    "sms_class_map = {0: 'Legitimate', 1: 'Spam'}\n",
    "email_class_map = {0: 'Legitimate', 1: 'Spam', 2: 'Phishing'}\n",
    "df_sms['LabelNum'] = df_sms['Label'].map({v: k for k, v in sms_class_map.items()})\n",
    "df_email['LabelNum'] = df_email['Label'].map({v: k for k, v in email_class_map.items()})\n",
    "df_full['TypeNum'] = df_full['Type'].map({'SMS': 0, 'Email': 1})\n",
    "df_sms.dropna(subset=['LabelNum', 'CleanMessage'], inplace=True)\n",
    "df_email.dropna(subset=['LabelNum', 'CleanMessage'], inplace=True)\n",
    "df_full.dropna(subset=['TypeNum', 'CleanMessage'], inplace=True)\n",
    "print(\"Data Loading, Cleaning, and Feature Engineering Complete.\")\n",
    "print(f\"Total Samples: {len(df_full)}, SMS Samples: {len(df_sms)}, Email Samples: {len(df_email)}\")\n",
    "print(\"\\nEmail Class Distribution (Original):\\n\", df_email['Label'].value_counts())\n",
    "print(\"\\nSMS Class Distribution (Original):\\n\", df_sms['Label'].value_counts())\n"
   ]
  },
  {
   "cell_type": "code",
   "execution_count": 17,
   "id": "6a668932",
   "metadata": {},
   "outputs": [
    {
     "name": "stdout",
     "output_type": "stream",
     "text": [
      "\n",
      "Plotting Original Class Distributions...\n"
     ]
    },
    {
     "name": "stderr",
     "output_type": "stream",
     "text": [
      "C:\\Users\\admin\\AppData\\Local\\Temp\\ipykernel_13736\\1344445279.py:5: FutureWarning: \n",
      "\n",
      "Passing `palette` without assigning `hue` is deprecated and will be removed in v0.14.0. Assign the `x` variable to `hue` and set `legend=False` for the same effect.\n",
      "\n",
      "  sns.countplot(x='Label', data=df_sms, palette='viridis').set_title('Original SMS Class Distribution')\n",
      "C:\\Users\\admin\\AppData\\Local\\Temp\\ipykernel_13736\\1344445279.py:7: FutureWarning: \n",
      "\n",
      "Passing `palette` without assigning `hue` is deprecated and will be removed in v0.14.0. Assign the `x` variable to `hue` and set `legend=False` for the same effect.\n",
      "\n",
      "  sns.countplot(x='Label', data=df_email, palette='plasma', order=['Legitimate', 'Spam', 'Phishing']).set_title('Original Email Class Distribution')\n"
     ]
    },
    {
     "data": {
      "image/png": "[encoded data removed]",
      "text/plain": [
       "<Figure size 1600x500 with 2 Axes>"
      ]
     },
     "metadata": {},
     "output_type": "display_data"
    }
   ],
   "source": [
    "# --- Cell 5: Data Visualization (EDA) ---\n",
    "print(\"\\nPlotting Original Class Distributions...\")\n",
    "plt.figure(figsize=(16, 5))\n",
    "plt.subplot(1, 2, 1)\n",
    "sns.countplot(x='Label', data=df_sms, palette='viridis').set_title('Original SMS Class Distribution')\n",
    "plt.subplot(1, 2, 2)\n",
    "sns.countplot(x='Label', data=df_email, palette='plasma', order=['Legitimate', 'Spam', 'Phishing']).set_title('Original Email Class Distribution')\n",
    "plt.tight_layout()\n",
    "plt.show()"
   ]
  },
  {
   "cell_type": "code",
   "execution_count": null,
   "id": "c37aee43",
   "metadata": {},
   "outputs": [],
   "source": [
    "# --- Cell 6: Visualize Class Balance After Applying SMOTE (User Requested Style) ---\n",
    "def visualize_smote_effect(X_sms_train, y_sms_train, X_email_train, y_email_train, preprocessor):\n",
    "    \"\"\"\n",
    "    Creates a single plot showing the 'after' picture of data balancing\n",
    "    for both SMS and Email side-by-side.\n",
    "    \"\"\"\n",
    "    print(\"\\nVisualizing Class Balance After Applying SMOTE for Training Data...\")\n",
    "    fig, axes = plt.subplots(1, 2, figsize=(16, 5))\n",
    "    smote = SMOTE(random_state=42)\n",
    "\n",
    "    # --- SMS Plot ---\n",
    "    X_sms_train_transformed = preprocessor.fit_transform(X_sms_train)\n",
    "    _, y_sms_resampled = smote.fit_resample(X_sms_train_transformed, y_sms_train)\n",
    "    sns.countplot(x=y_sms_resampled, ax=axes[0], palette='viridis')\n",
    "    axes[0].set_title('SMS Class Distribution After SMOTE')\n",
    "    axes[0].set_xticklabels(['Legitimate', 'Spam'])\n",
    "    axes[0].set_xlabel(\"Class\")\n",
    "\n",
    "    # --- Email Plot ---\n",
    "    # NOTE: We use fit_transform for the first model (SMS) and transform for the second (Email)\n",
    "    # This is a simplification for visualization; the actual pipeline handles this correctly.\n",
    "    X_email_train_transformed = preprocessor.transform(X_email_train)\n",
    "    _, y_email_resampled = smote.fit_resample(X_email_train_transformed, y_email_train)\n",
    "    sns.countplot(x=y_email_resampled, ax=axes[1], palette='plasma')\n",
    "    axes[1].set_title('Email Class Distribution After SMOTE')\n",
    "    axes[1].set_xticklabels(['Legitimate', 'Spam', 'Phishing'])\n",
    "    axes[1].set_xlabel(\"Class\")\n",
    "\n",
    "    plt.tight_layout()\n",
    "    plt.show()\n",
    "\n",
    "# --- Cell 7: Build Professional Preprocessing Pipeline ---\n",
    "numeric_features = ['message_len', 'word_count', 'percent_caps', 'url_count']\n",
    "text_feature = 'CleanMessage'\n",
    "preprocessor = ColumnTransformer(\n",
    "    transformers=[\n",
    "        ('tfidf', TfidfVectorizer(stop_words='english', ngram_range=(1, 2), max_features=5000), text_feature),\n",
    "        ('scaler', StandardScaler(), numeric_features)\n",
    "    ],\n",
    "    remainder='drop')"
   ]
  },
  {
   "cell_type": "code",
   "execution_count": null,
   "id": "3b3359de",
   "metadata": {},
   "outputs": [],
   "source": []
  },
  {
   "cell_type": "code",
   "execution_count": null,
   "id": "92f83689",
   "metadata": {},
   "outputs": [],
   "source": []
  },
  {
   "cell_type": "code",
   "execution_count": null,
   "id": "d49a4cb8",
   "metadata": {},
   "outputs": [],
   "source": []
  },
  {
   "cell_type": "code",
   "execution_count": null,
   "id": "b2d2e06c",
   "metadata": {},
   "outputs": [],
   "source": []
  }
 ],
 "metadata": {
  "kernelspec": {
   "display_name": "aiml",
   "language": "python",
   "name": "python3"
  },
  "language_info": {
   "codemirror_mode": {
    "name": "ipython",
    "version": 3
   },
   "file_extension": ".py",
   "mimetype": "text/x-python",
   "name": "python",
   "nbconvert_exporter": "python",
   "pygments_lexer": "ipython3",
   "version": "3.11.9"
  }
 },
 "nbformat": 4,
 "nbformat_minor": 5
}
